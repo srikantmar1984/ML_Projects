{
 "cells": [
  {
   "cell_type": "code",
   "execution_count": 1,
   "id": "2b88a799",
   "metadata": {},
   "outputs": [],
   "source": [
    "# Related to automobile,process industries, manufacturing plant,Similar topic project on NASA also."
   ]
  },
  {
   "cell_type": "code",
   "execution_count": 2,
   "id": "72a85d49",
   "metadata": {},
   "outputs": [],
   "source": [
    "# import the basic libraries\n"
   ]
  },
  {
   "cell_type": "code",
   "execution_count": 3,
   "id": "2f27020e",
   "metadata": {},
   "outputs": [],
   "source": [
    "import pandas as pd\n",
    "import numpy as np\n",
    "import matplotlib.pyplot as plt\n",
    "import seaborn as sns\n",
    "import warnings\n",
    "warnings.filterwarnings(\"ignore\")"
   ]
  },
  {
   "cell_type": "code",
   "execution_count": 4,
   "id": "10e17d3d",
   "metadata": {},
   "outputs": [
    {
     "data": {
      "text/html": [
       "<div>\n",
       "<style scoped>\n",
       "    .dataframe tbody tr th:only-of-type {\n",
       "        vertical-align: middle;\n",
       "    }\n",
       "\n",
       "    .dataframe tbody tr th {\n",
       "        vertical-align: top;\n",
       "    }\n",
       "\n",
       "    .dataframe thead th {\n",
       "        text-align: right;\n",
       "    }\n",
       "</style>\n",
       "<table border=\"1\" class=\"dataframe\">\n",
       "  <thead>\n",
       "    <tr style=\"text-align: right;\">\n",
       "      <th></th>\n",
       "      <th>UDI</th>\n",
       "      <th>Product ID</th>\n",
       "      <th>Type</th>\n",
       "      <th>Air temperature [K]</th>\n",
       "      <th>Process temperature [K]</th>\n",
       "      <th>Rotational speed [rpm]</th>\n",
       "      <th>Torque [Nm]</th>\n",
       "      <th>Tool wear [min]</th>\n",
       "      <th>Target</th>\n",
       "      <th>Failure Type</th>\n",
       "    </tr>\n",
       "  </thead>\n",
       "  <tbody>\n",
       "    <tr>\n",
       "      <th>0</th>\n",
       "      <td>1</td>\n",
       "      <td>M14860</td>\n",
       "      <td>M</td>\n",
       "      <td>298.1</td>\n",
       "      <td>308.6</td>\n",
       "      <td>1551</td>\n",
       "      <td>42.8</td>\n",
       "      <td>0</td>\n",
       "      <td>0</td>\n",
       "      <td>No Failure</td>\n",
       "    </tr>\n",
       "    <tr>\n",
       "      <th>1</th>\n",
       "      <td>2</td>\n",
       "      <td>L47181</td>\n",
       "      <td>L</td>\n",
       "      <td>298.2</td>\n",
       "      <td>308.7</td>\n",
       "      <td>1408</td>\n",
       "      <td>46.3</td>\n",
       "      <td>3</td>\n",
       "      <td>0</td>\n",
       "      <td>No Failure</td>\n",
       "    </tr>\n",
       "    <tr>\n",
       "      <th>2</th>\n",
       "      <td>3</td>\n",
       "      <td>L47182</td>\n",
       "      <td>L</td>\n",
       "      <td>298.1</td>\n",
       "      <td>308.5</td>\n",
       "      <td>1498</td>\n",
       "      <td>49.4</td>\n",
       "      <td>5</td>\n",
       "      <td>0</td>\n",
       "      <td>No Failure</td>\n",
       "    </tr>\n",
       "    <tr>\n",
       "      <th>3</th>\n",
       "      <td>4</td>\n",
       "      <td>L47183</td>\n",
       "      <td>L</td>\n",
       "      <td>298.2</td>\n",
       "      <td>308.6</td>\n",
       "      <td>1433</td>\n",
       "      <td>39.5</td>\n",
       "      <td>7</td>\n",
       "      <td>0</td>\n",
       "      <td>No Failure</td>\n",
       "    </tr>\n",
       "    <tr>\n",
       "      <th>4</th>\n",
       "      <td>5</td>\n",
       "      <td>L47184</td>\n",
       "      <td>L</td>\n",
       "      <td>298.2</td>\n",
       "      <td>308.7</td>\n",
       "      <td>1408</td>\n",
       "      <td>40.0</td>\n",
       "      <td>9</td>\n",
       "      <td>0</td>\n",
       "      <td>No Failure</td>\n",
       "    </tr>\n",
       "    <tr>\n",
       "      <th>5</th>\n",
       "      <td>6</td>\n",
       "      <td>M14865</td>\n",
       "      <td>M</td>\n",
       "      <td>298.1</td>\n",
       "      <td>308.6</td>\n",
       "      <td>1425</td>\n",
       "      <td>41.9</td>\n",
       "      <td>11</td>\n",
       "      <td>0</td>\n",
       "      <td>No Failure</td>\n",
       "    </tr>\n",
       "    <tr>\n",
       "      <th>6</th>\n",
       "      <td>7</td>\n",
       "      <td>L47186</td>\n",
       "      <td>L</td>\n",
       "      <td>298.1</td>\n",
       "      <td>308.6</td>\n",
       "      <td>1558</td>\n",
       "      <td>42.4</td>\n",
       "      <td>14</td>\n",
       "      <td>0</td>\n",
       "      <td>No Failure</td>\n",
       "    </tr>\n",
       "    <tr>\n",
       "      <th>7</th>\n",
       "      <td>8</td>\n",
       "      <td>L47187</td>\n",
       "      <td>L</td>\n",
       "      <td>298.1</td>\n",
       "      <td>308.6</td>\n",
       "      <td>1527</td>\n",
       "      <td>40.2</td>\n",
       "      <td>16</td>\n",
       "      <td>0</td>\n",
       "      <td>No Failure</td>\n",
       "    </tr>\n",
       "    <tr>\n",
       "      <th>8</th>\n",
       "      <td>9</td>\n",
       "      <td>M14868</td>\n",
       "      <td>M</td>\n",
       "      <td>298.3</td>\n",
       "      <td>308.7</td>\n",
       "      <td>1667</td>\n",
       "      <td>28.6</td>\n",
       "      <td>18</td>\n",
       "      <td>0</td>\n",
       "      <td>No Failure</td>\n",
       "    </tr>\n",
       "    <tr>\n",
       "      <th>9</th>\n",
       "      <td>10</td>\n",
       "      <td>M14869</td>\n",
       "      <td>M</td>\n",
       "      <td>298.5</td>\n",
       "      <td>309.0</td>\n",
       "      <td>1741</td>\n",
       "      <td>28.0</td>\n",
       "      <td>21</td>\n",
       "      <td>0</td>\n",
       "      <td>No Failure</td>\n",
       "    </tr>\n",
       "  </tbody>\n",
       "</table>\n",
       "</div>"
      ],
      "text/plain": [
       "   UDI Product ID Type  Air temperature [K]  Process temperature [K]  \\\n",
       "0    1     M14860    M                298.1                    308.6   \n",
       "1    2     L47181    L                298.2                    308.7   \n",
       "2    3     L47182    L                298.1                    308.5   \n",
       "3    4     L47183    L                298.2                    308.6   \n",
       "4    5     L47184    L                298.2                    308.7   \n",
       "5    6     M14865    M                298.1                    308.6   \n",
       "6    7     L47186    L                298.1                    308.6   \n",
       "7    8     L47187    L                298.1                    308.6   \n",
       "8    9     M14868    M                298.3                    308.7   \n",
       "9   10     M14869    M                298.5                    309.0   \n",
       "\n",
       "   Rotational speed [rpm]  Torque [Nm]  Tool wear [min]  Target Failure Type  \n",
       "0                    1551         42.8                0       0   No Failure  \n",
       "1                    1408         46.3                3       0   No Failure  \n",
       "2                    1498         49.4                5       0   No Failure  \n",
       "3                    1433         39.5                7       0   No Failure  \n",
       "4                    1408         40.0                9       0   No Failure  \n",
       "5                    1425         41.9               11       0   No Failure  \n",
       "6                    1558         42.4               14       0   No Failure  \n",
       "7                    1527         40.2               16       0   No Failure  \n",
       "8                    1667         28.6               18       0   No Failure  \n",
       "9                    1741         28.0               21       0   No Failure  "
      ]
     },
     "execution_count": 4,
     "metadata": {},
     "output_type": "execute_result"
    }
   ],
   "source": [
    "original_data=pd.read_csv('C:/Users/Sanu/Desktop/DataSet/component_failure_prediction.csv')\n",
    "df=original_data.copy()\n",
    "df.head(10)"
   ]
  },
  {
   "cell_type": "code",
   "execution_count": 5,
   "id": "c589e56d",
   "metadata": {},
   "outputs": [
    {
     "data": {
      "text/html": [
       "<div>\n",
       "<style scoped>\n",
       "    .dataframe tbody tr th:only-of-type {\n",
       "        vertical-align: middle;\n",
       "    }\n",
       "\n",
       "    .dataframe tbody tr th {\n",
       "        vertical-align: top;\n",
       "    }\n",
       "\n",
       "    .dataframe thead th {\n",
       "        text-align: right;\n",
       "    }\n",
       "</style>\n",
       "<table border=\"1\" class=\"dataframe\">\n",
       "  <thead>\n",
       "    <tr style=\"text-align: right;\">\n",
       "      <th></th>\n",
       "      <th>UDI</th>\n",
       "      <th>Product ID</th>\n",
       "      <th>Type</th>\n",
       "      <th>Air temperature [K]</th>\n",
       "      <th>Process temperature [K]</th>\n",
       "      <th>Rotational speed [rpm]</th>\n",
       "      <th>Torque [Nm]</th>\n",
       "      <th>Tool wear [min]</th>\n",
       "      <th>Target</th>\n",
       "      <th>Failure Type</th>\n",
       "    </tr>\n",
       "  </thead>\n",
       "  <tbody>\n",
       "    <tr>\n",
       "      <th>9900</th>\n",
       "      <td>9901</td>\n",
       "      <td>H39314</td>\n",
       "      <td>H</td>\n",
       "      <td>298.7</td>\n",
       "      <td>309.2</td>\n",
       "      <td>1449</td>\n",
       "      <td>42.3</td>\n",
       "      <td>182</td>\n",
       "      <td>0</td>\n",
       "      <td>No Failure</td>\n",
       "    </tr>\n",
       "    <tr>\n",
       "      <th>9901</th>\n",
       "      <td>9902</td>\n",
       "      <td>M24761</td>\n",
       "      <td>M</td>\n",
       "      <td>298.7</td>\n",
       "      <td>309.2</td>\n",
       "      <td>1423</td>\n",
       "      <td>48.9</td>\n",
       "      <td>187</td>\n",
       "      <td>0</td>\n",
       "      <td>No Failure</td>\n",
       "    </tr>\n",
       "    <tr>\n",
       "      <th>9902</th>\n",
       "      <td>9903</td>\n",
       "      <td>H39316</td>\n",
       "      <td>H</td>\n",
       "      <td>298.7</td>\n",
       "      <td>309.3</td>\n",
       "      <td>1402</td>\n",
       "      <td>45.3</td>\n",
       "      <td>190</td>\n",
       "      <td>0</td>\n",
       "      <td>No Failure</td>\n",
       "    </tr>\n",
       "    <tr>\n",
       "      <th>9903</th>\n",
       "      <td>9904</td>\n",
       "      <td>M24763</td>\n",
       "      <td>M</td>\n",
       "      <td>298.7</td>\n",
       "      <td>309.2</td>\n",
       "      <td>1437</td>\n",
       "      <td>45.7</td>\n",
       "      <td>195</td>\n",
       "      <td>0</td>\n",
       "      <td>No Failure</td>\n",
       "    </tr>\n",
       "    <tr>\n",
       "      <th>9904</th>\n",
       "      <td>9905</td>\n",
       "      <td>L57084</td>\n",
       "      <td>L</td>\n",
       "      <td>298.6</td>\n",
       "      <td>309.1</td>\n",
       "      <td>1537</td>\n",
       "      <td>35.7</td>\n",
       "      <td>198</td>\n",
       "      <td>0</td>\n",
       "      <td>No Failure</td>\n",
       "    </tr>\n",
       "    <tr>\n",
       "      <th>...</th>\n",
       "      <td>...</td>\n",
       "      <td>...</td>\n",
       "      <td>...</td>\n",
       "      <td>...</td>\n",
       "      <td>...</td>\n",
       "      <td>...</td>\n",
       "      <td>...</td>\n",
       "      <td>...</td>\n",
       "      <td>...</td>\n",
       "      <td>...</td>\n",
       "    </tr>\n",
       "    <tr>\n",
       "      <th>9995</th>\n",
       "      <td>9996</td>\n",
       "      <td>M24855</td>\n",
       "      <td>M</td>\n",
       "      <td>298.8</td>\n",
       "      <td>308.4</td>\n",
       "      <td>1604</td>\n",
       "      <td>29.5</td>\n",
       "      <td>14</td>\n",
       "      <td>0</td>\n",
       "      <td>No Failure</td>\n",
       "    </tr>\n",
       "    <tr>\n",
       "      <th>9996</th>\n",
       "      <td>9997</td>\n",
       "      <td>H39410</td>\n",
       "      <td>H</td>\n",
       "      <td>298.9</td>\n",
       "      <td>308.4</td>\n",
       "      <td>1632</td>\n",
       "      <td>31.8</td>\n",
       "      <td>17</td>\n",
       "      <td>0</td>\n",
       "      <td>No Failure</td>\n",
       "    </tr>\n",
       "    <tr>\n",
       "      <th>9997</th>\n",
       "      <td>9998</td>\n",
       "      <td>M24857</td>\n",
       "      <td>M</td>\n",
       "      <td>299.0</td>\n",
       "      <td>308.6</td>\n",
       "      <td>1645</td>\n",
       "      <td>33.4</td>\n",
       "      <td>22</td>\n",
       "      <td>0</td>\n",
       "      <td>No Failure</td>\n",
       "    </tr>\n",
       "    <tr>\n",
       "      <th>9998</th>\n",
       "      <td>9999</td>\n",
       "      <td>H39412</td>\n",
       "      <td>H</td>\n",
       "      <td>299.0</td>\n",
       "      <td>308.7</td>\n",
       "      <td>1408</td>\n",
       "      <td>48.5</td>\n",
       "      <td>25</td>\n",
       "      <td>0</td>\n",
       "      <td>No Failure</td>\n",
       "    </tr>\n",
       "    <tr>\n",
       "      <th>9999</th>\n",
       "      <td>10000</td>\n",
       "      <td>M24859</td>\n",
       "      <td>M</td>\n",
       "      <td>299.0</td>\n",
       "      <td>308.7</td>\n",
       "      <td>1500</td>\n",
       "      <td>40.2</td>\n",
       "      <td>30</td>\n",
       "      <td>0</td>\n",
       "      <td>No Failure</td>\n",
       "    </tr>\n",
       "  </tbody>\n",
       "</table>\n",
       "<p>100 rows × 10 columns</p>\n",
       "</div>"
      ],
      "text/plain": [
       "        UDI Product ID Type  Air temperature [K]  Process temperature [K]  \\\n",
       "9900   9901     H39314    H                298.7                    309.2   \n",
       "9901   9902     M24761    M                298.7                    309.2   \n",
       "9902   9903     H39316    H                298.7                    309.3   \n",
       "9903   9904     M24763    M                298.7                    309.2   \n",
       "9904   9905     L57084    L                298.6                    309.1   \n",
       "...     ...        ...  ...                  ...                      ...   \n",
       "9995   9996     M24855    M                298.8                    308.4   \n",
       "9996   9997     H39410    H                298.9                    308.4   \n",
       "9997   9998     M24857    M                299.0                    308.6   \n",
       "9998   9999     H39412    H                299.0                    308.7   \n",
       "9999  10000     M24859    M                299.0                    308.7   \n",
       "\n",
       "      Rotational speed [rpm]  Torque [Nm]  Tool wear [min]  Target  \\\n",
       "9900                    1449         42.3              182       0   \n",
       "9901                    1423         48.9              187       0   \n",
       "9902                    1402         45.3              190       0   \n",
       "9903                    1437         45.7              195       0   \n",
       "9904                    1537         35.7              198       0   \n",
       "...                      ...          ...              ...     ...   \n",
       "9995                    1604         29.5               14       0   \n",
       "9996                    1632         31.8               17       0   \n",
       "9997                    1645         33.4               22       0   \n",
       "9998                    1408         48.5               25       0   \n",
       "9999                    1500         40.2               30       0   \n",
       "\n",
       "     Failure Type  \n",
       "9900   No Failure  \n",
       "9901   No Failure  \n",
       "9902   No Failure  \n",
       "9903   No Failure  \n",
       "9904   No Failure  \n",
       "...           ...  \n",
       "9995   No Failure  \n",
       "9996   No Failure  \n",
       "9997   No Failure  \n",
       "9998   No Failure  \n",
       "9999   No Failure  \n",
       "\n",
       "[100 rows x 10 columns]"
      ]
     },
     "execution_count": 5,
     "metadata": {},
     "output_type": "execute_result"
    }
   ],
   "source": [
    "df.tail(100)"
   ]
  },
  {
   "cell_type": "code",
   "execution_count": 6,
   "id": "e24d25ec",
   "metadata": {},
   "outputs": [
    {
     "name": "stdout",
     "output_type": "stream",
     "text": [
      "<class 'pandas.core.frame.DataFrame'>\n",
      "RangeIndex: 10000 entries, 0 to 9999\n",
      "Data columns (total 10 columns):\n",
      " #   Column                   Non-Null Count  Dtype  \n",
      "---  ------                   --------------  -----  \n",
      " 0   UDI                      10000 non-null  int64  \n",
      " 1   Product ID               10000 non-null  object \n",
      " 2   Type                     10000 non-null  object \n",
      " 3   Air temperature [K]      10000 non-null  float64\n",
      " 4   Process temperature [K]  10000 non-null  float64\n",
      " 5   Rotational speed [rpm]   10000 non-null  int64  \n",
      " 6   Torque [Nm]              10000 non-null  float64\n",
      " 7   Tool wear [min]          10000 non-null  int64  \n",
      " 8   Target                   10000 non-null  int64  \n",
      " 9   Failure Type             10000 non-null  object \n",
      "dtypes: float64(3), int64(4), object(3)\n",
      "memory usage: 781.4+ KB\n"
     ]
    }
   ],
   "source": [
    "df.info()"
   ]
  },
  {
   "cell_type": "code",
   "execution_count": 7,
   "id": "8f300a71",
   "metadata": {},
   "outputs": [
    {
     "data": {
      "text/html": [
       "<div>\n",
       "<style scoped>\n",
       "    .dataframe tbody tr th:only-of-type {\n",
       "        vertical-align: middle;\n",
       "    }\n",
       "\n",
       "    .dataframe tbody tr th {\n",
       "        vertical-align: top;\n",
       "    }\n",
       "\n",
       "    .dataframe thead th {\n",
       "        text-align: right;\n",
       "    }\n",
       "</style>\n",
       "<table border=\"1\" class=\"dataframe\">\n",
       "  <thead>\n",
       "    <tr style=\"text-align: right;\">\n",
       "      <th></th>\n",
       "      <th>UDI</th>\n",
       "      <th>Air temperature [K]</th>\n",
       "      <th>Process temperature [K]</th>\n",
       "      <th>Rotational speed [rpm]</th>\n",
       "      <th>Torque [Nm]</th>\n",
       "      <th>Tool wear [min]</th>\n",
       "      <th>Target</th>\n",
       "    </tr>\n",
       "  </thead>\n",
       "  <tbody>\n",
       "    <tr>\n",
       "      <th>count</th>\n",
       "      <td>10000.00000</td>\n",
       "      <td>10000.000000</td>\n",
       "      <td>10000.000000</td>\n",
       "      <td>10000.000000</td>\n",
       "      <td>10000.000000</td>\n",
       "      <td>10000.000000</td>\n",
       "      <td>10000.000000</td>\n",
       "    </tr>\n",
       "    <tr>\n",
       "      <th>mean</th>\n",
       "      <td>5000.50000</td>\n",
       "      <td>300.004930</td>\n",
       "      <td>310.005560</td>\n",
       "      <td>1538.776100</td>\n",
       "      <td>39.986910</td>\n",
       "      <td>107.951000</td>\n",
       "      <td>0.033900</td>\n",
       "    </tr>\n",
       "    <tr>\n",
       "      <th>std</th>\n",
       "      <td>2886.89568</td>\n",
       "      <td>2.000259</td>\n",
       "      <td>1.483734</td>\n",
       "      <td>179.284096</td>\n",
       "      <td>9.968934</td>\n",
       "      <td>63.654147</td>\n",
       "      <td>0.180981</td>\n",
       "    </tr>\n",
       "    <tr>\n",
       "      <th>min</th>\n",
       "      <td>1.00000</td>\n",
       "      <td>295.300000</td>\n",
       "      <td>305.700000</td>\n",
       "      <td>1168.000000</td>\n",
       "      <td>3.800000</td>\n",
       "      <td>0.000000</td>\n",
       "      <td>0.000000</td>\n",
       "    </tr>\n",
       "    <tr>\n",
       "      <th>25%</th>\n",
       "      <td>2500.75000</td>\n",
       "      <td>298.300000</td>\n",
       "      <td>308.800000</td>\n",
       "      <td>1423.000000</td>\n",
       "      <td>33.200000</td>\n",
       "      <td>53.000000</td>\n",
       "      <td>0.000000</td>\n",
       "    </tr>\n",
       "    <tr>\n",
       "      <th>50%</th>\n",
       "      <td>5000.50000</td>\n",
       "      <td>300.100000</td>\n",
       "      <td>310.100000</td>\n",
       "      <td>1503.000000</td>\n",
       "      <td>40.100000</td>\n",
       "      <td>108.000000</td>\n",
       "      <td>0.000000</td>\n",
       "    </tr>\n",
       "    <tr>\n",
       "      <th>75%</th>\n",
       "      <td>7500.25000</td>\n",
       "      <td>301.500000</td>\n",
       "      <td>311.100000</td>\n",
       "      <td>1612.000000</td>\n",
       "      <td>46.800000</td>\n",
       "      <td>162.000000</td>\n",
       "      <td>0.000000</td>\n",
       "    </tr>\n",
       "    <tr>\n",
       "      <th>max</th>\n",
       "      <td>10000.00000</td>\n",
       "      <td>304.500000</td>\n",
       "      <td>313.800000</td>\n",
       "      <td>2886.000000</td>\n",
       "      <td>76.600000</td>\n",
       "      <td>253.000000</td>\n",
       "      <td>1.000000</td>\n",
       "    </tr>\n",
       "  </tbody>\n",
       "</table>\n",
       "</div>"
      ],
      "text/plain": [
       "               UDI  Air temperature [K]  Process temperature [K]  \\\n",
       "count  10000.00000         10000.000000             10000.000000   \n",
       "mean    5000.50000           300.004930               310.005560   \n",
       "std     2886.89568             2.000259                 1.483734   \n",
       "min        1.00000           295.300000               305.700000   \n",
       "25%     2500.75000           298.300000               308.800000   \n",
       "50%     5000.50000           300.100000               310.100000   \n",
       "75%     7500.25000           301.500000               311.100000   \n",
       "max    10000.00000           304.500000               313.800000   \n",
       "\n",
       "       Rotational speed [rpm]   Torque [Nm]  Tool wear [min]        Target  \n",
       "count            10000.000000  10000.000000     10000.000000  10000.000000  \n",
       "mean              1538.776100     39.986910       107.951000      0.033900  \n",
       "std                179.284096      9.968934        63.654147      0.180981  \n",
       "min               1168.000000      3.800000         0.000000      0.000000  \n",
       "25%               1423.000000     33.200000        53.000000      0.000000  \n",
       "50%               1503.000000     40.100000       108.000000      0.000000  \n",
       "75%               1612.000000     46.800000       162.000000      0.000000  \n",
       "max               2886.000000     76.600000       253.000000      1.000000  "
      ]
     },
     "execution_count": 7,
     "metadata": {},
     "output_type": "execute_result"
    }
   ],
   "source": [
    "df.describe()"
   ]
  },
  {
   "cell_type": "code",
   "execution_count": 8,
   "id": "1eb7fd0a",
   "metadata": {},
   "outputs": [],
   "source": [
    "df1=df.drop([\"UDI\",\"Product ID\"],axis=1)"
   ]
  },
  {
   "cell_type": "code",
   "execution_count": 9,
   "id": "7c5c70e3",
   "metadata": {},
   "outputs": [
    {
     "data": {
      "text/plain": [
       "No Failure                  9652\n",
       "Heat Dissipation Failure     112\n",
       "Power Failure                 95\n",
       "Overstrain Failure            78\n",
       "Tool Wear Failure             45\n",
       "Random Failures               18\n",
       "Name: Failure Type, dtype: int64"
      ]
     },
     "execution_count": 9,
     "metadata": {},
     "output_type": "execute_result"
    }
   ],
   "source": [
    "# variable in failure types \n",
    "df1[\"Failure Type\"].value_counts()"
   ]
  },
  {
   "cell_type": "code",
   "execution_count": 10,
   "id": "9522a3fb",
   "metadata": {},
   "outputs": [
    {
     "data": {
      "text/plain": [
       "0    9661\n",
       "1     339\n",
       "Name: Target, dtype: int64"
      ]
     },
     "execution_count": 10,
     "metadata": {},
     "output_type": "execute_result"
    }
   ],
   "source": [
    "df1[\"Target\"].value_counts()"
   ]
  },
  {
   "cell_type": "code",
   "execution_count": 11,
   "id": "49abed88",
   "metadata": {},
   "outputs": [
    {
     "data": {
      "text/plain": [
       "0    0.9661\n",
       "1    0.0339\n",
       "Name: Target, dtype: float64"
      ]
     },
     "execution_count": 11,
     "metadata": {},
     "output_type": "execute_result"
    }
   ],
   "source": [
    "df1[\"Target\"].value_counts(normalize=True)"
   ]
  },
  {
   "cell_type": "code",
   "execution_count": 12,
   "id": "e710c28c",
   "metadata": {},
   "outputs": [],
   "source": [
    "# there are five kind of failure.\n",
    "# it is a highly imbalance data."
   ]
  },
  {
   "cell_type": "code",
   "execution_count": 13,
   "id": "c189dc68",
   "metadata": {},
   "outputs": [],
   "source": [
    "#lets change the name of the columns"
   ]
  },
  {
   "cell_type": "code",
   "execution_count": 14,
   "id": "3d63140f",
   "metadata": {},
   "outputs": [],
   "source": [
    "#df2=df1.rename(mapper={\"Air temperature [K]\":\"Air temperature\"},axis=1)"
   ]
  },
  {
   "cell_type": "code",
   "execution_count": 15,
   "id": "5513acf3",
   "metadata": {},
   "outputs": [],
   "source": [
    "#df2.head()"
   ]
  },
  {
   "cell_type": "code",
   "execution_count": 16,
   "id": "5e099bf7",
   "metadata": {},
   "outputs": [],
   "source": [
    "# lets check why there is a difference in failure number in failure type and target"
   ]
  },
  {
   "cell_type": "code",
   "execution_count": 17,
   "id": "4ccd24f9",
   "metadata": {},
   "outputs": [
    {
     "data": {
      "text/plain": [
       "Heat Dissipation Failure    112\n",
       "Power Failure                95\n",
       "Overstrain Failure           78\n",
       "Tool Wear Failure            45\n",
       "No Failure                    9\n",
       "Name: Failure Type, dtype: int64"
      ]
     },
     "execution_count": 17,
     "metadata": {},
     "output_type": "execute_result"
    }
   ],
   "source": [
    "df_failure=df1[df1[\"Target\"]==1]\n",
    "df_failure[\"Failure Type\"].value_counts()"
   ]
  },
  {
   "cell_type": "code",
   "execution_count": 18,
   "id": "c1b63ab7",
   "metadata": {},
   "outputs": [
    {
     "data": {
      "text/html": [
       "<div>\n",
       "<style scoped>\n",
       "    .dataframe tbody tr th:only-of-type {\n",
       "        vertical-align: middle;\n",
       "    }\n",
       "\n",
       "    .dataframe tbody tr th {\n",
       "        vertical-align: top;\n",
       "    }\n",
       "\n",
       "    .dataframe thead th {\n",
       "        text-align: right;\n",
       "    }\n",
       "</style>\n",
       "<table border=\"1\" class=\"dataframe\">\n",
       "  <thead>\n",
       "    <tr style=\"text-align: right;\">\n",
       "      <th></th>\n",
       "      <th>Type</th>\n",
       "      <th>Air temperature [K]</th>\n",
       "      <th>Process temperature [K]</th>\n",
       "      <th>Rotational speed [rpm]</th>\n",
       "      <th>Torque [Nm]</th>\n",
       "      <th>Tool wear [min]</th>\n",
       "      <th>Target</th>\n",
       "      <th>Failure Type</th>\n",
       "    </tr>\n",
       "  </thead>\n",
       "  <tbody>\n",
       "    <tr>\n",
       "      <th>1437</th>\n",
       "      <td>H</td>\n",
       "      <td>298.8</td>\n",
       "      <td>309.9</td>\n",
       "      <td>1439</td>\n",
       "      <td>45.2</td>\n",
       "      <td>40</td>\n",
       "      <td>1</td>\n",
       "      <td>No Failure</td>\n",
       "    </tr>\n",
       "    <tr>\n",
       "      <th>2749</th>\n",
       "      <td>M</td>\n",
       "      <td>299.7</td>\n",
       "      <td>309.2</td>\n",
       "      <td>1685</td>\n",
       "      <td>28.9</td>\n",
       "      <td>179</td>\n",
       "      <td>1</td>\n",
       "      <td>No Failure</td>\n",
       "    </tr>\n",
       "    <tr>\n",
       "      <th>4044</th>\n",
       "      <td>M</td>\n",
       "      <td>301.9</td>\n",
       "      <td>310.9</td>\n",
       "      <td>1419</td>\n",
       "      <td>47.7</td>\n",
       "      <td>20</td>\n",
       "      <td>1</td>\n",
       "      <td>No Failure</td>\n",
       "    </tr>\n",
       "    <tr>\n",
       "      <th>4684</th>\n",
       "      <td>M</td>\n",
       "      <td>303.6</td>\n",
       "      <td>311.8</td>\n",
       "      <td>1421</td>\n",
       "      <td>44.8</td>\n",
       "      <td>101</td>\n",
       "      <td>1</td>\n",
       "      <td>No Failure</td>\n",
       "    </tr>\n",
       "    <tr>\n",
       "      <th>5536</th>\n",
       "      <td>M</td>\n",
       "      <td>302.3</td>\n",
       "      <td>311.8</td>\n",
       "      <td>1363</td>\n",
       "      <td>54.0</td>\n",
       "      <td>119</td>\n",
       "      <td>1</td>\n",
       "      <td>No Failure</td>\n",
       "    </tr>\n",
       "    <tr>\n",
       "      <th>5941</th>\n",
       "      <td>L</td>\n",
       "      <td>300.6</td>\n",
       "      <td>310.7</td>\n",
       "      <td>1438</td>\n",
       "      <td>48.5</td>\n",
       "      <td>78</td>\n",
       "      <td>1</td>\n",
       "      <td>No Failure</td>\n",
       "    </tr>\n",
       "    <tr>\n",
       "      <th>6478</th>\n",
       "      <td>L</td>\n",
       "      <td>300.5</td>\n",
       "      <td>309.8</td>\n",
       "      <td>1663</td>\n",
       "      <td>29.1</td>\n",
       "      <td>145</td>\n",
       "      <td>1</td>\n",
       "      <td>No Failure</td>\n",
       "    </tr>\n",
       "    <tr>\n",
       "      <th>8506</th>\n",
       "      <td>L</td>\n",
       "      <td>298.4</td>\n",
       "      <td>309.6</td>\n",
       "      <td>1710</td>\n",
       "      <td>27.3</td>\n",
       "      <td>163</td>\n",
       "      <td>1</td>\n",
       "      <td>No Failure</td>\n",
       "    </tr>\n",
       "    <tr>\n",
       "      <th>9015</th>\n",
       "      <td>L</td>\n",
       "      <td>297.2</td>\n",
       "      <td>308.1</td>\n",
       "      <td>1431</td>\n",
       "      <td>49.7</td>\n",
       "      <td>210</td>\n",
       "      <td>1</td>\n",
       "      <td>No Failure</td>\n",
       "    </tr>\n",
       "  </tbody>\n",
       "</table>\n",
       "</div>"
      ],
      "text/plain": [
       "     Type  Air temperature [K]  Process temperature [K]  \\\n",
       "1437    H                298.8                    309.9   \n",
       "2749    M                299.7                    309.2   \n",
       "4044    M                301.9                    310.9   \n",
       "4684    M                303.6                    311.8   \n",
       "5536    M                302.3                    311.8   \n",
       "5941    L                300.6                    310.7   \n",
       "6478    L                300.5                    309.8   \n",
       "8506    L                298.4                    309.6   \n",
       "9015    L                297.2                    308.1   \n",
       "\n",
       "      Rotational speed [rpm]  Torque [Nm]  Tool wear [min]  Target  \\\n",
       "1437                    1439         45.2               40       1   \n",
       "2749                    1685         28.9              179       1   \n",
       "4044                    1419         47.7               20       1   \n",
       "4684                    1421         44.8              101       1   \n",
       "5536                    1363         54.0              119       1   \n",
       "5941                    1438         48.5               78       1   \n",
       "6478                    1663         29.1              145       1   \n",
       "8506                    1710         27.3              163       1   \n",
       "9015                    1431         49.7              210       1   \n",
       "\n",
       "     Failure Type  \n",
       "1437   No Failure  \n",
       "2749   No Failure  \n",
       "4044   No Failure  \n",
       "4684   No Failure  \n",
       "5536   No Failure  \n",
       "5941   No Failure  \n",
       "6478   No Failure  \n",
       "8506   No Failure  \n",
       "9015   No Failure  "
      ]
     },
     "execution_count": 18,
     "metadata": {},
     "output_type": "execute_result"
    }
   ],
   "source": [
    "df_failure[df_failure[\"Failure Type\"]==\"No Failure\"]"
   ]
  },
  {
   "cell_type": "code",
   "execution_count": 19,
   "id": "4ec861dd",
   "metadata": {},
   "outputs": [],
   "source": [
    "#drop the observation because we are not sure whether it is failure or No failure"
   ]
  },
  {
   "cell_type": "code",
   "execution_count": 20,
   "id": "282d2fd0",
   "metadata": {},
   "outputs": [],
   "source": [
    "id_possible_failure=df_failure[df_failure[\"Failure Type\"]==\"No Failure\"].index\n",
    "df1.drop(id_possible_failure,axis=0,inplace=True)"
   ]
  },
  {
   "cell_type": "code",
   "execution_count": 21,
   "id": "910c4482",
   "metadata": {},
   "outputs": [
    {
     "name": "stdout",
     "output_type": "stream",
     "text": [
      "<class 'pandas.core.frame.DataFrame'>\n",
      "Int64Index: 9991 entries, 0 to 9999\n",
      "Data columns (total 8 columns):\n",
      " #   Column                   Non-Null Count  Dtype  \n",
      "---  ------                   --------------  -----  \n",
      " 0   Type                     9991 non-null   object \n",
      " 1   Air temperature [K]      9991 non-null   float64\n",
      " 2   Process temperature [K]  9991 non-null   float64\n",
      " 3   Rotational speed [rpm]   9991 non-null   int64  \n",
      " 4   Torque [Nm]              9991 non-null   float64\n",
      " 5   Tool wear [min]          9991 non-null   int64  \n",
      " 6   Target                   9991 non-null   int64  \n",
      " 7   Failure Type             9991 non-null   object \n",
      "dtypes: float64(3), int64(3), object(2)\n",
      "memory usage: 702.5+ KB\n"
     ]
    }
   ],
   "source": [
    "df1.info()"
   ]
  },
  {
   "cell_type": "code",
   "execution_count": 22,
   "id": "df458933",
   "metadata": {},
   "outputs": [
    {
     "data": {
      "text/plain": [
       "No Failure         9643\n",
       "Random Failures      18\n",
       "Name: Failure Type, dtype: int64"
      ]
     },
     "execution_count": 22,
     "metadata": {},
     "output_type": "execute_result"
    }
   ],
   "source": [
    "df_failure=df1[df1[\"Target\"]==0]\n",
    "\n",
    "df_failure[\"Failure Type\"].value_counts()"
   ]
  },
  {
   "cell_type": "code",
   "execution_count": 23,
   "id": "b6bcbf27",
   "metadata": {},
   "outputs": [
    {
     "data": {
      "text/html": [
       "<div>\n",
       "<style scoped>\n",
       "    .dataframe tbody tr th:only-of-type {\n",
       "        vertical-align: middle;\n",
       "    }\n",
       "\n",
       "    .dataframe tbody tr th {\n",
       "        vertical-align: top;\n",
       "    }\n",
       "\n",
       "    .dataframe thead th {\n",
       "        text-align: right;\n",
       "    }\n",
       "</style>\n",
       "<table border=\"1\" class=\"dataframe\">\n",
       "  <thead>\n",
       "    <tr style=\"text-align: right;\">\n",
       "      <th></th>\n",
       "      <th>Type</th>\n",
       "      <th>Air temperature [K]</th>\n",
       "      <th>Process temperature [K]</th>\n",
       "      <th>Rotational speed [rpm]</th>\n",
       "      <th>Torque [Nm]</th>\n",
       "      <th>Tool wear [min]</th>\n",
       "      <th>Target</th>\n",
       "      <th>Failure Type</th>\n",
       "    </tr>\n",
       "  </thead>\n",
       "  <tbody>\n",
       "    <tr>\n",
       "      <th>1221</th>\n",
       "      <td>M</td>\n",
       "      <td>297.0</td>\n",
       "      <td>308.3</td>\n",
       "      <td>1399</td>\n",
       "      <td>46.4</td>\n",
       "      <td>132</td>\n",
       "      <td>0</td>\n",
       "      <td>Random Failures</td>\n",
       "    </tr>\n",
       "    <tr>\n",
       "      <th>1302</th>\n",
       "      <td>L</td>\n",
       "      <td>298.6</td>\n",
       "      <td>309.8</td>\n",
       "      <td>1505</td>\n",
       "      <td>45.7</td>\n",
       "      <td>144</td>\n",
       "      <td>0</td>\n",
       "      <td>Random Failures</td>\n",
       "    </tr>\n",
       "    <tr>\n",
       "      <th>1748</th>\n",
       "      <td>H</td>\n",
       "      <td>298.4</td>\n",
       "      <td>307.7</td>\n",
       "      <td>1626</td>\n",
       "      <td>31.1</td>\n",
       "      <td>166</td>\n",
       "      <td>0</td>\n",
       "      <td>Random Failures</td>\n",
       "    </tr>\n",
       "    <tr>\n",
       "      <th>2072</th>\n",
       "      <td>L</td>\n",
       "      <td>299.6</td>\n",
       "      <td>309.5</td>\n",
       "      <td>1570</td>\n",
       "      <td>35.5</td>\n",
       "      <td>189</td>\n",
       "      <td>0</td>\n",
       "      <td>Random Failures</td>\n",
       "    </tr>\n",
       "    <tr>\n",
       "      <th>2559</th>\n",
       "      <td>L</td>\n",
       "      <td>299.3</td>\n",
       "      <td>309.0</td>\n",
       "      <td>1447</td>\n",
       "      <td>50.4</td>\n",
       "      <td>140</td>\n",
       "      <td>0</td>\n",
       "      <td>Random Failures</td>\n",
       "    </tr>\n",
       "    <tr>\n",
       "      <th>3065</th>\n",
       "      <td>M</td>\n",
       "      <td>300.1</td>\n",
       "      <td>309.2</td>\n",
       "      <td>1687</td>\n",
       "      <td>27.7</td>\n",
       "      <td>95</td>\n",
       "      <td>0</td>\n",
       "      <td>Random Failures</td>\n",
       "    </tr>\n",
       "    <tr>\n",
       "      <th>3452</th>\n",
       "      <td>H</td>\n",
       "      <td>301.6</td>\n",
       "      <td>310.5</td>\n",
       "      <td>1602</td>\n",
       "      <td>32.3</td>\n",
       "      <td>2</td>\n",
       "      <td>0</td>\n",
       "      <td>Random Failures</td>\n",
       "    </tr>\n",
       "    <tr>\n",
       "      <th>5471</th>\n",
       "      <td>L</td>\n",
       "      <td>302.7</td>\n",
       "      <td>312.3</td>\n",
       "      <td>1346</td>\n",
       "      <td>61.2</td>\n",
       "      <td>170</td>\n",
       "      <td>0</td>\n",
       "      <td>Random Failures</td>\n",
       "    </tr>\n",
       "    <tr>\n",
       "      <th>5489</th>\n",
       "      <td>L</td>\n",
       "      <td>302.6</td>\n",
       "      <td>312.1</td>\n",
       "      <td>1499</td>\n",
       "      <td>35.0</td>\n",
       "      <td>215</td>\n",
       "      <td>0</td>\n",
       "      <td>Random Failures</td>\n",
       "    </tr>\n",
       "    <tr>\n",
       "      <th>5495</th>\n",
       "      <td>H</td>\n",
       "      <td>302.9</td>\n",
       "      <td>312.5</td>\n",
       "      <td>1357</td>\n",
       "      <td>55.0</td>\n",
       "      <td>12</td>\n",
       "      <td>0</td>\n",
       "      <td>Random Failures</td>\n",
       "    </tr>\n",
       "    <tr>\n",
       "      <th>5509</th>\n",
       "      <td>L</td>\n",
       "      <td>302.8</td>\n",
       "      <td>312.2</td>\n",
       "      <td>1509</td>\n",
       "      <td>36.5</td>\n",
       "      <td>52</td>\n",
       "      <td>0</td>\n",
       "      <td>Random Failures</td>\n",
       "    </tr>\n",
       "    <tr>\n",
       "      <th>5553</th>\n",
       "      <td>L</td>\n",
       "      <td>302.5</td>\n",
       "      <td>311.9</td>\n",
       "      <td>1306</td>\n",
       "      <td>59.7</td>\n",
       "      <td>172</td>\n",
       "      <td>0</td>\n",
       "      <td>Random Failures</td>\n",
       "    </tr>\n",
       "    <tr>\n",
       "      <th>5639</th>\n",
       "      <td>L</td>\n",
       "      <td>302.6</td>\n",
       "      <td>312.1</td>\n",
       "      <td>1668</td>\n",
       "      <td>28.7</td>\n",
       "      <td>180</td>\n",
       "      <td>0</td>\n",
       "      <td>Random Failures</td>\n",
       "    </tr>\n",
       "    <tr>\n",
       "      <th>6091</th>\n",
       "      <td>L</td>\n",
       "      <td>300.9</td>\n",
       "      <td>310.7</td>\n",
       "      <td>1412</td>\n",
       "      <td>57.5</td>\n",
       "      <td>16</td>\n",
       "      <td>0</td>\n",
       "      <td>Random Failures</td>\n",
       "    </tr>\n",
       "    <tr>\n",
       "      <th>6913</th>\n",
       "      <td>L</td>\n",
       "      <td>300.8</td>\n",
       "      <td>311.2</td>\n",
       "      <td>1481</td>\n",
       "      <td>38.5</td>\n",
       "      <td>181</td>\n",
       "      <td>0</td>\n",
       "      <td>Random Failures</td>\n",
       "    </tr>\n",
       "    <tr>\n",
       "      <th>6960</th>\n",
       "      <td>L</td>\n",
       "      <td>300.7</td>\n",
       "      <td>311.0</td>\n",
       "      <td>1413</td>\n",
       "      <td>52.0</td>\n",
       "      <td>91</td>\n",
       "      <td>0</td>\n",
       "      <td>Random Failures</td>\n",
       "    </tr>\n",
       "    <tr>\n",
       "      <th>7488</th>\n",
       "      <td>L</td>\n",
       "      <td>300.3</td>\n",
       "      <td>311.7</td>\n",
       "      <td>1545</td>\n",
       "      <td>43.5</td>\n",
       "      <td>160</td>\n",
       "      <td>0</td>\n",
       "      <td>Random Failures</td>\n",
       "    </tr>\n",
       "    <tr>\n",
       "      <th>7868</th>\n",
       "      <td>H</td>\n",
       "      <td>300.4</td>\n",
       "      <td>311.9</td>\n",
       "      <td>1438</td>\n",
       "      <td>46.7</td>\n",
       "      <td>41</td>\n",
       "      <td>0</td>\n",
       "      <td>Random Failures</td>\n",
       "    </tr>\n",
       "  </tbody>\n",
       "</table>\n",
       "</div>"
      ],
      "text/plain": [
       "     Type  Air temperature [K]  Process temperature [K]  \\\n",
       "1221    M                297.0                    308.3   \n",
       "1302    L                298.6                    309.8   \n",
       "1748    H                298.4                    307.7   \n",
       "2072    L                299.6                    309.5   \n",
       "2559    L                299.3                    309.0   \n",
       "3065    M                300.1                    309.2   \n",
       "3452    H                301.6                    310.5   \n",
       "5471    L                302.7                    312.3   \n",
       "5489    L                302.6                    312.1   \n",
       "5495    H                302.9                    312.5   \n",
       "5509    L                302.8                    312.2   \n",
       "5553    L                302.5                    311.9   \n",
       "5639    L                302.6                    312.1   \n",
       "6091    L                300.9                    310.7   \n",
       "6913    L                300.8                    311.2   \n",
       "6960    L                300.7                    311.0   \n",
       "7488    L                300.3                    311.7   \n",
       "7868    H                300.4                    311.9   \n",
       "\n",
       "      Rotational speed [rpm]  Torque [Nm]  Tool wear [min]  Target  \\\n",
       "1221                    1399         46.4              132       0   \n",
       "1302                    1505         45.7              144       0   \n",
       "1748                    1626         31.1              166       0   \n",
       "2072                    1570         35.5              189       0   \n",
       "2559                    1447         50.4              140       0   \n",
       "3065                    1687         27.7               95       0   \n",
       "3452                    1602         32.3                2       0   \n",
       "5471                    1346         61.2              170       0   \n",
       "5489                    1499         35.0              215       0   \n",
       "5495                    1357         55.0               12       0   \n",
       "5509                    1509         36.5               52       0   \n",
       "5553                    1306         59.7              172       0   \n",
       "5639                    1668         28.7              180       0   \n",
       "6091                    1412         57.5               16       0   \n",
       "6913                    1481         38.5              181       0   \n",
       "6960                    1413         52.0               91       0   \n",
       "7488                    1545         43.5              160       0   \n",
       "7868                    1438         46.7               41       0   \n",
       "\n",
       "         Failure Type  \n",
       "1221  Random Failures  \n",
       "1302  Random Failures  \n",
       "1748  Random Failures  \n",
       "2072  Random Failures  \n",
       "2559  Random Failures  \n",
       "3065  Random Failures  \n",
       "3452  Random Failures  \n",
       "5471  Random Failures  \n",
       "5489  Random Failures  \n",
       "5495  Random Failures  \n",
       "5509  Random Failures  \n",
       "5553  Random Failures  \n",
       "5639  Random Failures  \n",
       "6091  Random Failures  \n",
       "6913  Random Failures  \n",
       "6960  Random Failures  \n",
       "7488  Random Failures  \n",
       "7868  Random Failures  "
      ]
     },
     "execution_count": 23,
     "metadata": {},
     "output_type": "execute_result"
    }
   ],
   "source": [
    "df_failure[df_failure[\"Failure Type\"]==\"Random Failures\"]"
   ]
  },
  {
   "cell_type": "code",
   "execution_count": 24,
   "id": "f5ea6deb",
   "metadata": {},
   "outputs": [],
   "source": [
    "# we are not sure the above observation is failure or no failure because two \n",
    "#target variable indicate different results\n",
    "# we should drop these observation"
   ]
  },
  {
   "cell_type": "code",
   "execution_count": 25,
   "id": "cbac7475",
   "metadata": {},
   "outputs": [],
   "source": [
    "id_possible_failure=df_failure[df_failure[\"Failure Type\"]==\"Random Failures\"].index\n",
    "df1.drop(id_possible_failure,axis=0,inplace=True)"
   ]
  },
  {
   "cell_type": "code",
   "execution_count": 26,
   "id": "0b545de4",
   "metadata": {},
   "outputs": [
    {
     "data": {
      "text/plain": [
       "9973"
      ]
     },
     "execution_count": 26,
     "metadata": {},
     "output_type": "execute_result"
    }
   ],
   "source": [
    "df1.shape[0]"
   ]
  },
  {
   "cell_type": "code",
   "execution_count": 27,
   "id": "dd404d0a",
   "metadata": {},
   "outputs": [
    {
     "data": {
      "text/html": [
       "<div>\n",
       "<style scoped>\n",
       "    .dataframe tbody tr th:only-of-type {\n",
       "        vertical-align: middle;\n",
       "    }\n",
       "\n",
       "    .dataframe tbody tr th {\n",
       "        vertical-align: top;\n",
       "    }\n",
       "\n",
       "    .dataframe thead th {\n",
       "        text-align: right;\n",
       "    }\n",
       "</style>\n",
       "<table border=\"1\" class=\"dataframe\">\n",
       "  <thead>\n",
       "    <tr style=\"text-align: right;\">\n",
       "      <th></th>\n",
       "      <th>Type</th>\n",
       "      <th>Air temperature [K]</th>\n",
       "      <th>Process temperature [K]</th>\n",
       "      <th>Rotational speed [rpm]</th>\n",
       "      <th>Torque [Nm]</th>\n",
       "      <th>Tool wear [min]</th>\n",
       "      <th>Target</th>\n",
       "      <th>Failure Type</th>\n",
       "    </tr>\n",
       "  </thead>\n",
       "  <tbody>\n",
       "    <tr>\n",
       "      <th>0</th>\n",
       "      <td>M</td>\n",
       "      <td>298.1</td>\n",
       "      <td>308.6</td>\n",
       "      <td>1551</td>\n",
       "      <td>42.8</td>\n",
       "      <td>0</td>\n",
       "      <td>0</td>\n",
       "      <td>No Failure</td>\n",
       "    </tr>\n",
       "    <tr>\n",
       "      <th>1</th>\n",
       "      <td>L</td>\n",
       "      <td>298.2</td>\n",
       "      <td>308.7</td>\n",
       "      <td>1408</td>\n",
       "      <td>46.3</td>\n",
       "      <td>3</td>\n",
       "      <td>0</td>\n",
       "      <td>No Failure</td>\n",
       "    </tr>\n",
       "    <tr>\n",
       "      <th>2</th>\n",
       "      <td>L</td>\n",
       "      <td>298.1</td>\n",
       "      <td>308.5</td>\n",
       "      <td>1498</td>\n",
       "      <td>49.4</td>\n",
       "      <td>5</td>\n",
       "      <td>0</td>\n",
       "      <td>No Failure</td>\n",
       "    </tr>\n",
       "    <tr>\n",
       "      <th>3</th>\n",
       "      <td>L</td>\n",
       "      <td>298.2</td>\n",
       "      <td>308.6</td>\n",
       "      <td>1433</td>\n",
       "      <td>39.5</td>\n",
       "      <td>7</td>\n",
       "      <td>0</td>\n",
       "      <td>No Failure</td>\n",
       "    </tr>\n",
       "    <tr>\n",
       "      <th>4</th>\n",
       "      <td>L</td>\n",
       "      <td>298.2</td>\n",
       "      <td>308.7</td>\n",
       "      <td>1408</td>\n",
       "      <td>40.0</td>\n",
       "      <td>9</td>\n",
       "      <td>0</td>\n",
       "      <td>No Failure</td>\n",
       "    </tr>\n",
       "  </tbody>\n",
       "</table>\n",
       "</div>"
      ],
      "text/plain": [
       "  Type  Air temperature [K]  Process temperature [K]  Rotational speed [rpm]  \\\n",
       "0    M                298.1                    308.6                    1551   \n",
       "1    L                298.2                    308.7                    1408   \n",
       "2    L                298.1                    308.5                    1498   \n",
       "3    L                298.2                    308.6                    1433   \n",
       "4    L                298.2                    308.7                    1408   \n",
       "\n",
       "   Torque [Nm]  Tool wear [min]  Target Failure Type  \n",
       "0         42.8                0       0   No Failure  \n",
       "1         46.3                3       0   No Failure  \n",
       "2         49.4                5       0   No Failure  \n",
       "3         39.5                7       0   No Failure  \n",
       "4         40.0                9       0   No Failure  "
      ]
     },
     "execution_count": 27,
     "metadata": {},
     "output_type": "execute_result"
    }
   ],
   "source": [
    "df1.head()"
   ]
  },
  {
   "cell_type": "code",
   "execution_count": 28,
   "id": "ff334842",
   "metadata": {},
   "outputs": [],
   "source": [
    "#lets see the pairplot correlation"
   ]
  },
  {
   "cell_type": "code",
   "execution_count": null,
   "id": "4d545355",
   "metadata": {},
   "outputs": [],
   "source": [
    "sns.pairplot(df1,hue=\"Target\")"
   ]
  },
  {
   "cell_type": "code",
   "execution_count": null,
   "id": "fee42fe5",
   "metadata": {},
   "outputs": [],
   "source": [
    "#observations\n",
    "\"\"\"\n",
    "(1)Torque and rotational speed are highly negative linear correlation \n",
    "(2)process temp and air temp are highly positive linear correlation\n",
    "(3)Failure is only at the extreme low and high value of Torque and Rotational speed.\n",
    "\"\"\""
   ]
  },
  {
   "cell_type": "code",
   "execution_count": null,
   "id": "904352da",
   "metadata": {},
   "outputs": [],
   "source": [
    "sns.pairplot(df1,hue=\"Failure Type\")"
   ]
  },
  {
   "cell_type": "code",
   "execution_count": null,
   "id": "309f80cb",
   "metadata": {},
   "outputs": [],
   "source": [
    "#sns.pairplot(df1,x=df1[\"Rotational speed [rpm]\"],y=df1[\"Torque [Nm]\"],hue=\"Failure Type\")"
   ]
  },
  {
   "cell_type": "code",
   "execution_count": null,
   "id": "e9eb771e",
   "metadata": {},
   "outputs": [],
   "source": [
    "#correlation matrix\n",
    "df1.corr()"
   ]
  },
  {
   "cell_type": "code",
   "execution_count": null,
   "id": "978bb79f",
   "metadata": {},
   "outputs": [],
   "source": [
    "plt.figure(figsize=(8,8))\n",
    "sns.heatmap(df1.corr(),annot=True)"
   ]
  },
  {
   "cell_type": "code",
   "execution_count": null,
   "id": "8a72e57c",
   "metadata": {},
   "outputs": [],
   "source": [
    "# Failure percentage of different quality component "
   ]
  },
  {
   "cell_type": "code",
   "execution_count": null,
   "id": "97cbc554",
   "metadata": {},
   "outputs": [],
   "source": [
    "df1[\"Type\"].value_counts()"
   ]
  },
  {
   "cell_type": "code",
   "execution_count": null,
   "id": "927cc324",
   "metadata": {},
   "outputs": [],
   "source": [
    "plt.pie(df1[\"Type\"].value_counts(),labels=[\"Low\",\"Medium\",\"High\"],autopct=\"%1.1f%%\")\n",
    "plt.title(\"percentage of component type\")"
   ]
  },
  {
   "cell_type": "code",
   "execution_count": null,
   "id": "54671893",
   "metadata": {},
   "outputs": [],
   "source": [
    "df1[\"Target\"].value_counts()"
   ]
  },
  {
   "cell_type": "code",
   "execution_count": null,
   "id": "9d79eeb4",
   "metadata": {},
   "outputs": [],
   "source": [
    "# percentage of failure with respect to component quality type"
   ]
  },
  {
   "cell_type": "code",
   "execution_count": null,
   "id": "f124dcf7",
   "metadata": {},
   "outputs": [],
   "source": [
    "df_product_type=df1[df1[\"Type\"]==\"L\"]\n",
    "df_product_type[\"Target\"].value_counts()"
   ]
  },
  {
   "cell_type": "code",
   "execution_count": null,
   "id": "754239fc",
   "metadata": {},
   "outputs": [],
   "source": [
    "df_product_type=df1[df1[\"Type\"]==\"M\"]\n",
    "df_product_type[\"Target\"].value_counts()"
   ]
  },
  {
   "cell_type": "code",
   "execution_count": null,
   "id": "3e574d43",
   "metadata": {},
   "outputs": [],
   "source": [
    "df_product_type=df1[df1[\"Type\"]==\"H\"]\n",
    "df_product_type[\"Target\"].value_counts()"
   ]
  },
  {
   "cell_type": "code",
   "execution_count": null,
   "id": "2a33740a",
   "metadata": {},
   "outputs": [],
   "source": [
    "df_product_type=df1[df1[\"Type\"]==\"L\"]\n",
    "plt.pie(df_product_type[\"Target\"].value_counts(),labels=[\"Not Failure\",\"Failure\"],autopct=\"%1.2f%%\")\n",
    "plt.title(\"Percentage of failure wrt component quality L\")"
   ]
  },
  {
   "cell_type": "code",
   "execution_count": null,
   "id": "a1dbfbea",
   "metadata": {},
   "outputs": [],
   "source": [
    "df_product_type=df1[df1[\"Type\"]==\"M\"]\n",
    "plt.pie(df_product_type[\"Target\"].value_counts(),labels=[\"Not Failure\",\"Failure\"],autopct=\"%1.2f%%\")\n",
    "plt.title(\"Percentage of failure wrt component quality M\")"
   ]
  },
  {
   "cell_type": "code",
   "execution_count": null,
   "id": "2ab6232b",
   "metadata": {},
   "outputs": [],
   "source": [
    "df_product_type=df1[df1[\"Type\"]==\"H\"]\n",
    "plt.pie(df_product_type[\"Target\"].value_counts(),labels=[\"Not Failure\",\"Failure\"],autopct=\"%1.2f%%\")\n",
    "plt.title(\"Percentage of failure wrt component quality H\")"
   ]
  },
  {
   "cell_type": "code",
   "execution_count": null,
   "id": "58514ef0",
   "metadata": {},
   "outputs": [],
   "source": [
    "# L type component have a higher failure wrt to M & H type. But it is not a alarming high."
   ]
  },
  {
   "cell_type": "code",
   "execution_count": null,
   "id": "71d1f2f7",
   "metadata": {},
   "outputs": [],
   "source": [
    "# Feb_12th continue"
   ]
  },
  {
   "cell_type": "code",
   "execution_count": null,
   "id": "6633c3c4",
   "metadata": {},
   "outputs": [],
   "source": [
    "df1[\"Failure Type\"].value_counts(normalize=True)"
   ]
  },
  {
   "cell_type": "code",
   "execution_count": null,
   "id": "88ab2260",
   "metadata": {},
   "outputs": [],
   "source": [
    "plt.figure(figsize=(8,8))\n",
    "col_fail_type=df1[\"Failure Type\"].unique().tolist()# failure types\n",
    "plt.pie(df1[\"Failure Type\"].value_counts(),explode=(0.2,0.0,0.0,0.0,0.0),autopct=\"%1.1f%%\")\n",
    "plt.title(\"failure type percentage\",fontsize=25)\n",
    "plt.legend(col_fail_type,fontsize=10)"
   ]
  },
  {
   "cell_type": "code",
   "execution_count": null,
   "id": "03114737",
   "metadata": {},
   "outputs": [],
   "source": []
  },
  {
   "cell_type": "code",
   "execution_count": null,
   "id": "15a88c42",
   "metadata": {},
   "outputs": [],
   "source": [
    "df1[\"Failure Type\"].unique().tolist()"
   ]
  },
  {
   "cell_type": "code",
   "execution_count": null,
   "id": "1239a67a",
   "metadata": {},
   "outputs": [],
   "source": [
    "df1[\"Failure Type\"].unique()"
   ]
  },
  {
   "cell_type": "code",
   "execution_count": null,
   "id": "6bec8c3b",
   "metadata": {},
   "outputs": [],
   "source": [
    "# lets draw the scatter plot of different failure type"
   ]
  },
  {
   "cell_type": "code",
   "execution_count": null,
   "id": "38ede568",
   "metadata": {},
   "outputs": [],
   "source": [
    "# rotational speed and torque are the most imp failure factor "
   ]
  },
  {
   "cell_type": "code",
   "execution_count": null,
   "id": "cd642772",
   "metadata": {},
   "outputs": [],
   "source": [
    "df1.head()"
   ]
  },
  {
   "cell_type": "code",
   "execution_count": null,
   "id": "0d997dc9",
   "metadata": {},
   "outputs": [],
   "source": [
    "fig,ax=plt.subplots(1,2,figsize=[20,10])\n",
    "sns.scatterplot(data=df1,x=\"Rotational speed [rpm]\",y=\"Torque [Nm]\",hue=\"Failure Type\",ax=ax[0])\n",
    "sns.scatterplot(data=df1[df1[\"Target\"]==1],x=\"Rotational speed [rpm]\",y=\"Torque [Nm]\",hue=\"Failure Type\",ax=ax[1])\n",
    "ax[0].set_title(\"Including the no failure class\")\n",
    "ax[1].set_title(\"only failure class\")"
   ]
  },
  {
   "cell_type": "code",
   "execution_count": null,
   "id": "e708af21",
   "metadata": {},
   "outputs": [],
   "source": [
    "# please write the interpretation obtained from the above scatterplot"
   ]
  },
  {
   "cell_type": "code",
   "execution_count": null,
   "id": "9a19dbe7",
   "metadata": {},
   "outputs": [],
   "source": [
    "# preprocessing finding the outliers"
   ]
  },
  {
   "cell_type": "code",
   "execution_count": null,
   "id": "f7f92b7c",
   "metadata": {},
   "outputs": [],
   "source": [
    "sns.scatterplot(data=df1,x=\"Rotational speed [rpm]\",y=\"Torque [Nm]\",hue=\"Failure Type\")"
   ]
  },
  {
   "cell_type": "code",
   "execution_count": null,
   "id": "56ed462c",
   "metadata": {},
   "outputs": [],
   "source": [
    "sns.scatterplot(data=df1[df1[\"Target\"]==1],x=\"Rotational speed [rpm]\",y=\"Torque [Nm]\",hue=\"Failure Type\")"
   ]
  },
  {
   "cell_type": "code",
   "execution_count": null,
   "id": "410f4291",
   "metadata": {},
   "outputs": [],
   "source": [
    "sns.scatterplot(data=df1[df1[\"Target\"]==1],x=\"Rotational speed [rpm]\",y=\"Torque [Nm]\",hue=\"Failure Type\")"
   ]
  },
  {
   "cell_type": "code",
   "execution_count": null,
   "id": "d8da0e0b",
   "metadata": {},
   "outputs": [],
   "source": [
    "# preprocessing finding the outliers"
   ]
  },
  {
   "cell_type": "code",
   "execution_count": null,
   "id": "277ccdd1",
   "metadata": {},
   "outputs": [],
   "source": [
    "sns.boxplot(data=df1,x=\"Rotational speed [rpm]\")"
   ]
  },
  {
   "cell_type": "code",
   "execution_count": null,
   "id": "44fe53f9",
   "metadata": {},
   "outputs": [],
   "source": [
    "sns.boxplot(data=df1,x=\"Torque [Nm]\")"
   ]
  },
  {
   "cell_type": "code",
   "execution_count": null,
   "id": "14628dd7",
   "metadata": {},
   "outputs": [],
   "source": [
    "df1.describe()"
   ]
  },
  {
   "cell_type": "code",
   "execution_count": null,
   "id": "749e71e6",
   "metadata": {},
   "outputs": [],
   "source": [
    "df1.info()"
   ]
  },
  {
   "cell_type": "code",
   "execution_count": null,
   "id": "ae11a3a5",
   "metadata": {},
   "outputs": [],
   "source": [
    "df1.head()"
   ]
  },
  {
   "cell_type": "code",
   "execution_count": null,
   "id": "bb60a21f",
   "metadata": {},
   "outputs": [],
   "source": [
    "df1[\"Failure Type\"].unique().tolist()"
   ]
  },
  {
   "cell_type": "code",
   "execution_count": null,
   "id": "f4ab32f6",
   "metadata": {},
   "outputs": [],
   "source": [
    "df1[\"Type\"].unique().tolist()"
   ]
  },
  {
   "cell_type": "code",
   "execution_count": null,
   "id": "e07e6538",
   "metadata": {},
   "outputs": [],
   "source": [
    "#label encoding or mapping approach"
   ]
  },
  {
   "cell_type": "code",
   "execution_count": null,
   "id": "f65f2644",
   "metadata": {},
   "outputs": [],
   "source": [
    "df1[\"Type\"]=df1[\"Type\"].map({\"L\":0,\"M\":1,\"H\":2})"
   ]
  },
  {
   "cell_type": "code",
   "execution_count": null,
   "id": "7e9f427c",
   "metadata": {},
   "outputs": [],
   "source": [
    "df1[\"Failure Type\"]=df1[\"Failure Type\"].map({'No Failure':0,'Power Failure':1,'Tool Wear Failure':2,\n",
    " 'Overstrain Failure':3,'Heat Dissipation Failure':4})"
   ]
  },
  {
   "cell_type": "code",
   "execution_count": null,
   "id": "78f79e83",
   "metadata": {},
   "outputs": [],
   "source": [
    "df1.head(100)"
   ]
  },
  {
   "cell_type": "code",
   "execution_count": null,
   "id": "e7d5612f",
   "metadata": {},
   "outputs": [],
   "source": [
    "df1.info()"
   ]
  },
  {
   "cell_type": "code",
   "execution_count": null,
   "id": "a8bb1f51",
   "metadata": {},
   "outputs": [],
   "source": [
    "#  split the data into dependent and independent variable"
   ]
  },
  {
   "cell_type": "code",
   "execution_count": null,
   "id": "e4cd3b3f",
   "metadata": {},
   "outputs": [],
   "source": [
    "X=df1.drop([\"Target\",\"Failure Type\"],axis=1)"
   ]
  },
  {
   "cell_type": "code",
   "execution_count": null,
   "id": "c2bf3f26",
   "metadata": {},
   "outputs": [],
   "source": [
    "X.head()"
   ]
  },
  {
   "cell_type": "code",
   "execution_count": null,
   "id": "ae480f3f",
   "metadata": {},
   "outputs": [],
   "source": [
    "# we know there is outlier in columns rotational speed and torque\n",
    "# we prefer the robust scaler scaling"
   ]
  },
  {
   "cell_type": "code",
   "execution_count": null,
   "id": "38eacf98",
   "metadata": {},
   "outputs": [],
   "source": [
    "from sklearn.preprocessing import MinMaxScaler,RobustScaler"
   ]
  },
  {
   "cell_type": "code",
   "execution_count": null,
   "id": "286b99f7",
   "metadata": {},
   "outputs": [],
   "source": [
    "scaler=RobustScaler()\n",
    "X_scaled=scaler.fit_transform(X)\n",
    "X_scaled=pd.DataFrame(X_scaled,columns=X.columns)\n",
    "X_scaled.head()"
   ]
  },
  {
   "cell_type": "code",
   "execution_count": null,
   "id": "d1ac36c4",
   "metadata": {},
   "outputs": [],
   "source": [
    "# we are working on Target column as dependent variable"
   ]
  },
  {
   "cell_type": "code",
   "execution_count": null,
   "id": "acd26a9c",
   "metadata": {},
   "outputs": [],
   "source": [
    "Y=df1[\"Target\"]# binary class"
   ]
  },
  {
   "cell_type": "code",
   "execution_count": null,
   "id": "30cd895c",
   "metadata": {},
   "outputs": [],
   "source": [
    "# data is highly imbalance , stratified split is important"
   ]
  },
  {
   "cell_type": "code",
   "execution_count": null,
   "id": "17b7319b",
   "metadata": {},
   "outputs": [],
   "source": [
    "from sklearn.model_selection import train_test_split"
   ]
  },
  {
   "cell_type": "code",
   "execution_count": null,
   "id": "5fd0a3aa",
   "metadata": {},
   "outputs": [],
   "source": [
    "X_train,X_test,Y_train,Y_test=train_test_split(X_scaled,Y,train_size=0.80,stratify=Y,random_state=101)\n",
    "#X_eval,X_test1,Y_eval,Y_test1=train_test_split(X_test,Y_test,train_size=0.50,random_state=105)"
   ]
  },
  {
   "cell_type": "code",
   "execution_count": null,
   "id": "75e09e41",
   "metadata": {},
   "outputs": [],
   "source": [
    "print(\"original data \\n\",df1[\"Target\"].value_counts(normalize=True))\n",
    "print(\"training data \\n\",Y_train.value_counts(normalize=True))\n",
    "print(\"testing data \\n\",Y_test.value_counts(normalize=True))"
   ]
  },
  {
   "cell_type": "code",
   "execution_count": null,
   "id": "13700f96",
   "metadata": {},
   "outputs": [],
   "source": [
    "# model building "
   ]
  },
  {
   "cell_type": "code",
   "execution_count": null,
   "id": "944cf947",
   "metadata": {},
   "outputs": [],
   "source": [
    "from sklearn.ensemble import RandomForestClassifier,BaggingClassifier\n",
    "from sklearn.svm import SVC\n",
    "from sklearn.tree import DecisionTreeClassifier\n",
    "from sklearn.neighbors import KNeighborsClassifier\n"
   ]
  },
  {
   "cell_type": "code",
   "execution_count": null,
   "id": "51dbbb65",
   "metadata": {},
   "outputs": [],
   "source": [
    "rf=RandomForestClassifier()\n",
    "bag=BaggingClassifier()\n",
    "svc=SVC()\n",
    "dt=DecisionTreeClassifier()\n",
    "knn=KNeighborsClassifier()"
   ]
  },
  {
   "cell_type": "code",
   "execution_count": null,
   "id": "4a7f2692",
   "metadata": {},
   "outputs": [],
   "source": [
    "# random forest"
   ]
  },
  {
   "cell_type": "code",
   "execution_count": null,
   "id": "3d903fbf",
   "metadata": {},
   "outputs": [],
   "source": [
    "rf.fit(X_train,Y_train)\n",
    "Y_pred_rf=rf.predict(X_test)"
   ]
  },
  {
   "cell_type": "code",
   "execution_count": null,
   "id": "b7e79cbd",
   "metadata": {},
   "outputs": [],
   "source": [
    "from sklearn.metrics import accuracy_score,confusion_matrix,classification_report"
   ]
  },
  {
   "cell_type": "code",
   "execution_count": null,
   "id": "7c6c2577",
   "metadata": {},
   "outputs": [],
   "source": [
    "accuracy_score(Y_test,Y_pred_rf)"
   ]
  },
  {
   "cell_type": "code",
   "execution_count": null,
   "id": "8ecaea2e",
   "metadata": {},
   "outputs": [],
   "source": [
    "confusion_matrix(Y_test,Y_pred_rf)"
   ]
  },
  {
   "cell_type": "code",
   "execution_count": null,
   "id": "a9f969fc",
   "metadata": {},
   "outputs": [],
   "source": [
    "print(classification_report(Y_test,Y_pred_rf))"
   ]
  },
  {
   "cell_type": "code",
   "execution_count": null,
   "id": "68bad7b6",
   "metadata": {},
   "outputs": [],
   "source": []
  },
  {
   "cell_type": "code",
   "execution_count": null,
   "id": "e8e15dd0",
   "metadata": {},
   "outputs": [],
   "source": [
    "# Bagging algorithm"
   ]
  },
  {
   "cell_type": "code",
   "execution_count": null,
   "id": "2fb466cf",
   "metadata": {},
   "outputs": [],
   "source": [
    "bag.fit(X_train,Y_train)\n",
    "Y_pred_bag=bag.predict(X_test)\n",
    "accuracy_score(Y_test,Y_pred_bag)\n"
   ]
  },
  {
   "cell_type": "code",
   "execution_count": null,
   "id": "27ddeabe",
   "metadata": {},
   "outputs": [],
   "source": [
    "confusion_matrix(Y_test,Y_pred_bag)\n"
   ]
  },
  {
   "cell_type": "code",
   "execution_count": null,
   "id": "798f31b6",
   "metadata": {},
   "outputs": [],
   "source": [
    "print(classification_report(Y_test,Y_pred_bag))"
   ]
  },
  {
   "cell_type": "code",
   "execution_count": null,
   "id": "e33f385f",
   "metadata": {},
   "outputs": [],
   "source": [
    "# please find accuracy of other algorithm"
   ]
  },
  {
   "cell_type": "code",
   "execution_count": null,
   "id": "f481a766",
   "metadata": {},
   "outputs": [],
   "source": [
    "from sklearn.model_selection import StratifiedShuffleSplit,cross_val_score,cross_val_predict"
   ]
  },
  {
   "cell_type": "code",
   "execution_count": null,
   "id": "41fd4697",
   "metadata": {},
   "outputs": [],
   "source": [
    "from sklearn.model_selection import cross_validate"
   ]
  },
  {
   "cell_type": "code",
   "execution_count": null,
   "id": "7faadec9",
   "metadata": {},
   "outputs": [],
   "source": [
    "for model in [rf,bag,svc,dt,knn]:\n",
    "    print(\"==========\"*5)\n",
    "    print('Performance of ', model)\n",
    "    print(\"==========\"*5)\n",
    "    cv = StratifiedShuffleSplit(n_splits=5, test_size=0.25, random_state=42)\n",
    "    scoring = [\"f1_macro\", \"precision_macro\", \"recall_macro\"]\n",
    "    cross_val_scores = cross_validate(model, X, Y, scoring=scoring)\n",
    "    roc_auc_test_cv = round(cross_val_score(model, X, Y, cv=cv, n_jobs=-1, scoring=\"roc_auc\").mean(),4)\n",
    "    f1_test_cv = round(cross_val_scores[\"test_f1_macro\"].mean(),4)\n",
    "    precision_test_cv = round(cross_val_scores[\"test_precision_macro\"].mean(),4)\n",
    "    recall_test_cv = round(cross_val_scores[\"test_recall_macro\"].mean(),4)\n",
    "       \n",
    "    \n",
    "    # Print metrics\n",
    "    print(f'Cross val roc auc test data: {roc_auc_test_cv}')\n",
    "    print(f'Cross val macro f1 score test data: {round(cross_val_scores[\"test_f1_macro\"].mean(),4)}')\n",
    "    print(f'Cross val macro precision score test data: {round(cross_val_scores[\"test_precision_macro\"].mean(),4)}')\n",
    "    print(f'Cross val macro recall score test data: {round(cross_val_scores[\"test_recall_macro\"].mean(),4)}')\n",
    "   # print()"
   ]
  },
  {
   "cell_type": "code",
   "execution_count": null,
   "id": "6d7c0c49",
   "metadata": {},
   "outputs": [],
   "source": []
  },
  {
   "cell_type": "code",
   "execution_count": null,
   "id": "15f40ffd",
   "metadata": {},
   "outputs": [],
   "source": [
    "# please write the interpretation"
   ]
  },
  {
   "cell_type": "code",
   "execution_count": null,
   "id": "abe5cf90",
   "metadata": {},
   "outputs": [],
   "source": []
  },
  {
   "cell_type": "code",
   "execution_count": null,
   "id": "9fd84759",
   "metadata": {},
   "outputs": [],
   "source": [
    "# Balancing the data set"
   ]
  },
  {
   "cell_type": "code",
   "execution_count": null,
   "id": "e5964f0b",
   "metadata": {},
   "outputs": [],
   "source": [
    "# pl remember only balance the training dataset"
   ]
  },
  {
   "cell_type": "code",
   "execution_count": null,
   "id": "266fc7d4",
   "metadata": {},
   "outputs": [],
   "source": [
    "from imblearn.over_sampling import SMOTE,RandomOverSampler\n",
    "from imblearn.under_sampling import RandomUnderSampler"
   ]
  },
  {
   "cell_type": "code",
   "execution_count": null,
   "id": "6abf8593",
   "metadata": {},
   "outputs": [],
   "source": [
    "smote=SMOTE(random_state=50,n_jobs=-1)\n",
    "X_train_smote,Y_train_smote=smote.fit_resample(X_train,Y_train)"
   ]
  },
  {
   "cell_type": "code",
   "execution_count": null,
   "id": "bbb155ad",
   "metadata": {},
   "outputs": [],
   "source": [
    "# apply random forest on balance dataset"
   ]
  },
  {
   "cell_type": "code",
   "execution_count": null,
   "id": "ff41dc50",
   "metadata": {},
   "outputs": [],
   "source": [
    "rf_smote=rf.fit(X_train_smote,Y_train_smote)\n",
    "Y_RF_pred_smote=rf_smote.predict(X_test)"
   ]
  },
  {
   "cell_type": "code",
   "execution_count": null,
   "id": "f98fa735",
   "metadata": {},
   "outputs": [],
   "source": [
    "accuracy_score(Y_test,Y_RF_pred_smote)"
   ]
  },
  {
   "cell_type": "code",
   "execution_count": null,
   "id": "28c7bc38",
   "metadata": {},
   "outputs": [],
   "source": [
    "confusion_matrix(Y_test,Y_RF_pred_smote)"
   ]
  },
  {
   "cell_type": "code",
   "execution_count": null,
   "id": "24a0b2f4",
   "metadata": {},
   "outputs": [],
   "source": [
    "print(classification_report(Y_test,Y_RF_pred_smote))"
   ]
  },
  {
   "cell_type": "code",
   "execution_count": null,
   "id": "f2eb7292",
   "metadata": {},
   "outputs": [],
   "source": [
    "Y_RF_pred_smote"
   ]
  },
  {
   "cell_type": "code",
   "execution_count": null,
   "id": "b429e4ca",
   "metadata": {},
   "outputs": [],
   "source": []
  },
  {
   "cell_type": "code",
   "execution_count": null,
   "id": "1167e584",
   "metadata": {},
   "outputs": [],
   "source": []
  },
  {
   "cell_type": "code",
   "execution_count": null,
   "id": "23fe2dee",
   "metadata": {},
   "outputs": [],
   "source": []
  },
  {
   "cell_type": "code",
   "execution_count": null,
   "id": "8863aa9b",
   "metadata": {},
   "outputs": [],
   "source": []
  },
  {
   "cell_type": "code",
   "execution_count": null,
   "id": "49c467e9",
   "metadata": {},
   "outputs": [],
   "source": []
  },
  {
   "cell_type": "code",
   "execution_count": null,
   "id": "975eaca7",
   "metadata": {},
   "outputs": [],
   "source": []
  },
  {
   "cell_type": "code",
   "execution_count": null,
   "id": "6d08b539",
   "metadata": {},
   "outputs": [],
   "source": []
  },
  {
   "cell_type": "code",
   "execution_count": null,
   "id": "9e0b3566",
   "metadata": {},
   "outputs": [],
   "source": []
  },
  {
   "cell_type": "code",
   "execution_count": null,
   "id": "a9fb69c2",
   "metadata": {},
   "outputs": [],
   "source": []
  },
  {
   "cell_type": "code",
   "execution_count": null,
   "id": "a7419d80",
   "metadata": {},
   "outputs": [],
   "source": []
  },
  {
   "cell_type": "code",
   "execution_count": null,
   "id": "63b390e8",
   "metadata": {},
   "outputs": [],
   "source": []
  },
  {
   "cell_type": "code",
   "execution_count": null,
   "id": "6e38d5a7",
   "metadata": {},
   "outputs": [],
   "source": []
  },
  {
   "cell_type": "code",
   "execution_count": null,
   "id": "726c87cd",
   "metadata": {},
   "outputs": [],
   "source": []
  },
  {
   "cell_type": "code",
   "execution_count": null,
   "id": "38b5ac99",
   "metadata": {},
   "outputs": [],
   "source": [
    "df1[\"Target\"].value_counts(normalize=True)"
   ]
  },
  {
   "cell_type": "code",
   "execution_count": null,
   "id": "fa83cb88",
   "metadata": {},
   "outputs": [],
   "source": []
  }
 ],
 "metadata": {
  "kernelspec": {
   "display_name": "Python 3 (ipykernel)",
   "language": "python",
   "name": "python3"
  },
  "language_info": {
   "codemirror_mode": {
    "name": "ipython",
    "version": 3
   },
   "file_extension": ".py",
   "mimetype": "text/x-python",
   "name": "python",
   "nbconvert_exporter": "python",
   "pygments_lexer": "ipython3",
   "version": "3.9.12"
  }
 },
 "nbformat": 4,
 "nbformat_minor": 5
}
